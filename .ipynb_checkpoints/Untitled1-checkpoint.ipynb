{
 "cells": [
  {
   "cell_type": "code",
   "execution_count": 3,
   "metadata": {},
   "outputs": [
    {
     "ename": "TypeError",
     "evalue": "__init__() got an unexpected keyword argument 'token'",
     "output_type": "error",
     "traceback": [
      "\u001b[0;31m---------------------------------------------------------------------------\u001b[0m",
      "\u001b[0;31mTypeError\u001b[0m                                 Traceback (most recent call last)",
      "\u001b[0;32m<ipython-input-3-63290e94dc99>\u001b[0m in \u001b[0;36m<module>\u001b[0;34m()\u001b[0m\n\u001b[1;32m     19\u001b[0m                        \u001b[0mtoken_secret\u001b[0m\u001b[0;34m=\u001b[0m\u001b[0mtoken_secret\u001b[0m\u001b[0;34m,\u001b[0m\u001b[0;34m\u001b[0m\u001b[0m\n\u001b[1;32m     20\u001b[0m                        \u001b[0mconsumer_key\u001b[0m\u001b[0;34m=\u001b[0m\u001b[0mconsumer_key\u001b[0m\u001b[0;34m,\u001b[0m\u001b[0;34m\u001b[0m\u001b[0m\n\u001b[0;32m---> 21\u001b[0;31m                        consumer_secret=consumer_secret)\n\u001b[0m\u001b[1;32m     22\u001b[0m \u001b[0;34m\u001b[0m\u001b[0m\n\u001b[1;32m     23\u001b[0m \u001b[0mpythonTweets\u001b[0m \u001b[0;34m=\u001b[0m \u001b[0mt\u001b[0m\u001b[0;34m.\u001b[0m\u001b[0msearch\u001b[0m\u001b[0;34m.\u001b[0m\u001b[0mtweets\u001b[0m\u001b[0;34m(\u001b[0m\u001b[0mq\u001b[0m \u001b[0;34m=\u001b[0m \u001b[0;34m\"#python\"\u001b[0m\u001b[0;34m)\u001b[0m\u001b[0;34m\u001b[0m\u001b[0m\n",
      "\u001b[0;31mTypeError\u001b[0m: __init__() got an unexpected keyword argument 'token'"
     ]
    }
   ],
   "source": [
    "from twitter import *\n",
    "\n",
    "import twitter \n",
    "\n",
    "#t = Twitter(auth=OAuth(<Access Token>,<Access Token Secret>, \n",
    "#                       <Consumer Key>,<Consumer Secret>))\n",
    "\n",
    "token = '989972665686470657-tgMO3BBMrduV5dJt7sNWWp2xmTRqitC'\n",
    "token_secret = 'dDl8jlHDdeYm2GO60MZpZjLlzdNPFWTVBk05zUgmb6otR'\n",
    "consumer_key = 'Mfkzw1lvN1TOoe2pCXiDFcQSP'\n",
    "consumer_secret = 'NNoVeO4zvozhIXDRvsvuLgr0XYPEcqX3ZGNbGfwYGE38HhQEud'\n",
    "\n",
    "# t = Twitter(auth=OAuth(token=token, \n",
    "#                        token_secret=token_secret, \n",
    "#                        consumer_key=consumer_key, \n",
    "#                        consumer_secret=consumer_secret))\n",
    "\n",
    "t = twitter.Api(token=token, \n",
    "                       token_secret=token_secret, \n",
    "                       consumer_key=consumer_key, \n",
    "                       consumer_secret=consumer_secret)\n",
    "\n",
    "pythonTweets = t.search.tweets(q = \"#python\")\n",
    "print(pythonTweets)"
   ]
  },
  {
   "cell_type": "code",
   "execution_count": 2,
   "metadata": {},
   "outputs": [
    {
     "ename": "ModuleNotFoundError",
     "evalue": "No module named 'oauth2'",
     "output_type": "error",
     "traceback": [
      "\u001b[0;31m---------------------------------------------------------------------------\u001b[0m",
      "\u001b[0;31mModuleNotFoundError\u001b[0m                       Traceback (most recent call last)",
      "\u001b[0;32m<ipython-input-2-a5441c1a3db9>\u001b[0m in \u001b[0;36m<module>\u001b[0;34m()\u001b[0m\n\u001b[0;32m----> 1\u001b[0;31m \u001b[0;32mimport\u001b[0m \u001b[0moauth2\u001b[0m \u001b[0;32mas\u001b[0m \u001b[0moauth\u001b[0m\u001b[0;34m\u001b[0m\u001b[0m\n\u001b[0m\u001b[1;32m      2\u001b[0m \u001b[0;32mimport\u001b[0m \u001b[0mjson\u001b[0m\u001b[0;34m\u001b[0m\u001b[0m\n\u001b[1;32m      3\u001b[0m \u001b[0;34m\u001b[0m\u001b[0m\n\u001b[1;32m      4\u001b[0m \u001b[0mCONSUMER_KEY\u001b[0m \u001b[0;34m=\u001b[0m \u001b[0;34m\"your app's consumer key\"\u001b[0m\u001b[0;34m\u001b[0m\u001b[0m\n\u001b[1;32m      5\u001b[0m \u001b[0mCONSUMER_SECRET\u001b[0m \u001b[0;34m=\u001b[0m \u001b[0;34m\"your app's consumer secret\"\u001b[0m\u001b[0;34m\u001b[0m\u001b[0m\n",
      "\u001b[0;31mModuleNotFoundError\u001b[0m: No module named 'oauth2'"
     ]
    }
   ],
   "source": [
    "import oauth2 as oauth\n",
    "import json\n",
    "\n",
    "CONSUMER_KEY = \"your app's consumer key\"\n",
    "CONSUMER_SECRET = \"your app's consumer secret\"\n",
    "ACCESS_KEY = \"your access token\"\n",
    "ACCESS_SECRET = \"your access token secret\"\n",
    "\n",
    "token = '989972665686470657-tgMO3BBMrduV5dJt7sNWWp2xmTRqitC'\n",
    "token_secret = 'dDl8jlHDdeYm2GO60MZpZjLlzdNPFWTVBk05zUgmb6otR'\n",
    "consumer_key = 'Mfkzw1lvN1TOoe2pCXiDFcQSP'\n",
    "consumer_secret = 'NNoVeO4zvozhIXDRvsvuLgr0XYPEcqX3ZGNbGfwYGE38HhQEud'\n",
    "\n",
    "consumer = oauth.Consumer(key=consumer_key, secret=consumer_secret)\n",
    "access_token = oauth.Token(key=token, secret=token_)\n",
    "client = oauth.Client(consumer, access_token)\n",
    "\n",
    "timeline_endpoint = \"https://api.twitter.com/1.1/statuses/home_timeline.json\"\n",
    "response, data = client.request(timeline_endpoint)\n",
    "\n",
    "tweets = json.loads(data)\n",
    "for tweet in tweets:\n",
    "    print(tweet['text'])"
   ]
  }
 ],
 "metadata": {
  "kernelspec": {
   "display_name": "Python 3",
   "language": "python",
   "name": "python3"
  },
  "language_info": {
   "codemirror_mode": {
    "name": "ipython",
    "version": 3
   },
   "file_extension": ".py",
   "mimetype": "text/x-python",
   "name": "python",
   "nbconvert_exporter": "python",
   "pygments_lexer": "ipython3",
   "version": "3.6.4"
  }
 },
 "nbformat": 4,
 "nbformat_minor": 2
}
