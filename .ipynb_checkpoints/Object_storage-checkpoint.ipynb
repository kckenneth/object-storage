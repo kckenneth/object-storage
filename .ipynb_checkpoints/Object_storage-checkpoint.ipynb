{
 "cells": [
  {
   "cell_type": "markdown",
   "metadata": {},
   "source": [
    "# Utilization of object storage in softlayer"
   ]
  },
  {
   "cell_type": "markdown",
   "metadata": {},
   "source": [
    "**Kenneth Chen**  \n",
    "\n",
    "Using object storage API in Jupyter Notebook (Python 2.7.5)  \n",
    "https://github.com/softlayer/softlayer-object-storage-python"
   ]
  },
  {
   "cell_type": "code",
   "execution_count": 1,
   "metadata": {},
   "outputs": [],
   "source": [
    "import object_storage\n",
    "import os\n",
    "import time"
   ]
  },
  {
   "cell_type": "code",
   "execution_count": 2,
   "metadata": {},
   "outputs": [],
   "source": [
    "# Connect to storage account\n",
    "sl_storage = object_storage.get_client('SLOS1729689-2:USER_ID', \n",
    "                                       'API_KEY', \n",
    "                                       datacenter='dal05')"
   ]
  },
  {
   "cell_type": "code",
   "execution_count": 5,
   "metadata": {},
   "outputs": [
    {
     "data": {
      "text/plain": [
       "Container(yelp)"
      ]
     },
     "execution_count": 5,
     "metadata": {},
     "output_type": "execute_result"
    }
   ],
   "source": [
    "# create a container 'yelp'\n",
    "sl_storage['yelp'].create()"
   ]
  },
  {
   "cell_type": "code",
   "execution_count": 3,
   "metadata": {},
   "outputs": [
    {
     "data": {
      "text/plain": [
       "[Container(mybucket), Container(mybucket2), Container(week7)]"
      ]
     },
     "execution_count": 3,
     "metadata": {},
     "output_type": "execute_result"
    }
   ],
   "source": [
    "# Listing all the containers\n",
    "sl_storage.containers()"
   ]
  },
  {
   "cell_type": "code",
   "execution_count": 4,
   "metadata": {},
   "outputs": [
    {
     "data": {
      "text/plain": [
       "{'container_count': 3,\n",
       " 'meta': {'cdn-id': '99655', 'nas-id': '53336359'},\n",
       " 'object_count': 4,\n",
       " 'path': '',\n",
       " 'size': 5228838023,\n",
       " 'url': u'https://dal05.objectstorage.softlayer.net/v1/AUTH_b7619532-8c35-4938-bf47-773773206815'}"
      ]
     },
     "execution_count": 4,
     "metadata": {},
     "output_type": "execute_result"
    }
   ],
   "source": [
    "# Checking the object storage properties\n",
    "sl_storage.properties"
   ]
  },
  {
   "cell_type": "code",
   "execution_count": 13,
   "metadata": {},
   "outputs": [
    {
     "name": "stdout",
     "output_type": "stream",
     "text": [
      "Total upload time is 266.2504 seconds\n",
      "Upload speed is 11.7559 MB/s\n"
     ]
    }
   ],
   "source": [
    "# Uploading a yelp data (>3GB) to 'yelp' container\n",
    "\n",
    "yelp_data = os.path.expanduser(\"/root/yelp_dataset.tar\")\n",
    "yelp_data_size = 3130         # data size in 3130 MB\n",
    "\n",
    "upload_start = time.time()\n",
    "fileUpload = sl_storage['week7']['yelp'].load_from_filename(yelp_data)\n",
    "\n",
    "upload_end = time.time()\n",
    "\n",
    "uploadtime = upload_end - upload_start\n",
    "print(\"Total upload time is {:.4f} seconds\".format(uploadtime))\n",
    "print(\"Upload speed is {:.4f} MB/s\".format(yelp_data_size/uploadtime))"
   ]
  },
  {
   "cell_type": "code",
   "execution_count": 13,
   "metadata": {},
   "outputs": [
    {
     "name": "stdout",
     "output_type": "stream",
     "text": [
      "Total upload time is 143.9054 seconds\n",
      "Upload speed is 11.6396 MB/s\n"
     ]
    }
   ],
   "source": [
    "# Uploading bigrams data (>1.6GB) \n",
    "\n",
    "bigram_data = os.path.expanduser(\"/root/googlebooks-eng-all-2gram-20090715-0.csv\")\n",
    "bigram_data_size = 1675         # data size in 1675 MB\n",
    "\n",
    "upload_start = time.time()\n",
    "fileUpload = sl_storage['week7']['bigrams'].load_from_filename(bigram_data)\n",
    "\n",
    "upload_end = time.time()\n",
    "\n",
    "uploadtime = upload_end - upload_start\n",
    "print(\"Total upload time is {:.4f} seconds\".format(uploadtime))\n",
    "print(\"Upload speed is {:.4f} MB/s\".format(bigram_data_size/uploadtime))"
   ]
  },
  {
   "cell_type": "code",
   "execution_count": 16,
   "metadata": {},
   "outputs": [
    {
     "name": "stdout",
     "output_type": "stream",
     "text": [
      "Total upload time is 40.4759 seconds\n",
      "Upload speed is 10.5248 MB/s\n"
     ]
    }
   ],
   "source": [
    "crime_data = os.path.expanduser(\"/root/crimes2010.csv\")\n",
    "crime_data_size = 426         # data size in 426 MB\n",
    "\n",
    "upload_start = time.time()\n",
    "fileUpload = sl_storage['week7']['crimes'].load_from_filename(crime_data)\n",
    "\n",
    "upload_end = time.time()\n",
    "\n",
    "uploadtime = upload_end - upload_start\n",
    "print(\"Total upload time is {:.4f} seconds\".format(uploadtime))\n",
    "print(\"Upload speed is {:.4f} MB/s\".format(crime_data_size/uploadtime))"
   ]
  },
  {
   "cell_type": "code",
   "execution_count": 1,
   "metadata": {},
   "outputs": [
    {
     "data": {
      "text/plain": [
       "'Since my yelp data was larger than 3GB, the MemoryError pops up. '"
      ]
     },
     "execution_count": 1,
     "metadata": {},
     "output_type": "execute_result"
    }
   ],
   "source": [
    "# Downloading the yelp data \n",
    "\n",
    "\"\"\"Since my yelp data was larger than 3GB, the MemoryError pops up. \"\"\" \n",
    "\n",
    "# yelp_data_size = 3130         # data size in 3130 MB\n",
    "# download_start = time.time()\n",
    "\n",
    "# uploadstart = time.time()\n",
    "# sl_storage['week7']['yelp'].read()\n",
    "\n",
    "# download_end = time.time()\n",
    "\n",
    "# downloadtime = download_end - download_start\n",
    "# print(\"Total download time is {:.4f} seconds\".format(downloadtime))\n",
    "# print(\"Download speed is {:.4f} MB/s\".format(yelp_data_size/downloadtime))"
   ]
  },
  {
   "cell_type": "code",
   "execution_count": 14,
   "metadata": {},
   "outputs": [
    {
     "name": "stdout",
     "output_type": "stream",
     "text": [
      "Total download time is 61.6082 seconds\n",
      "Download speed is 27.1879 MB/s\n"
     ]
    }
   ],
   "source": [
    "# Downloading the bigrams data \n",
    "\n",
    "bigram_data_size = 1675       # data size in 1675 MB\n",
    "download_start = time.time()\n",
    "\n",
    "uploadstart = time.time()\n",
    "sl_storage['week7']['bigrams'].read()\n",
    "\n",
    "download_end = time.time()\n",
    "\n",
    "downloadtime = download_end - download_start\n",
    "print(\"Total download time is {:.4f} seconds\".format(downloadtime))\n",
    "print(\"Download speed is {:.4f} MB/s\".format(bigram_data_size/downloadtime))"
   ]
  },
  {
   "cell_type": "code",
   "execution_count": 17,
   "metadata": {},
   "outputs": [
    {
     "name": "stdout",
     "output_type": "stream",
     "text": [
      "Total download time is 19.5927 seconds\n",
      "Download speed is 21.7428 MB/s\n"
     ]
    }
   ],
   "source": [
    "# Downloading the crime data\n",
    "\n",
    "crime_data_size = 426       # data size in 426 MB\n",
    "download_start = time.time()\n",
    "\n",
    "uploadstart = time.time()\n",
    "sl_storage['week7']['crimes'].read()\n",
    "\n",
    "download_end = time.time()\n",
    "\n",
    "downloadtime = download_end - download_start\n",
    "print(\"Total download time is {:.4f} seconds\".format(downloadtime))\n",
    "print(\"Download speed is {:.4f} MB/s\".format(crime_data_size/downloadtime))"
   ]
  },
  {
   "cell_type": "code",
   "execution_count": 5,
   "metadata": {},
   "outputs": [
    {
     "data": {
      "text/plain": [
       "[StorageObject(week7, bigrams, 1675035751B),\n",
       " StorageObject(week7, crimes, 426352513B),\n",
       " StorageObject(week7, yelp, 3127449759B)]"
      ]
     },
     "execution_count": 5,
     "metadata": {},
     "output_type": "execute_result"
    }
   ],
   "source": [
    "# list the data in the yelp container\n",
    "sl_storage['week7'].objects()"
   ]
  },
  {
   "cell_type": "code",
   "execution_count": 6,
   "metadata": {},
   "outputs": [
    {
     "data": {
      "text/plain": [
       "True"
      ]
     },
     "execution_count": 6,
     "metadata": {},
     "output_type": "execute_result"
    }
   ],
   "source": [
    "# delete the file object in yelp container\n",
    "sl_storage['yelp'].delete()"
   ]
  },
  {
   "cell_type": "markdown",
   "metadata": {},
   "source": [
    "## Analysis  on upload and download speed using Python  \n",
    "\n",
    "### Upload result\n",
    "```\n",
    "| Dataset           | Total Upload Time | Upload Speed |  \n",
    "|-------------------|-------------------|--------------|  \n",
    "|yelp (3.13GB)      | 266.2504s         | 11.7559 MB/s |  \n",
    "|bigrams (1.6 GB)   | 143.9054s         | 11.6396 MB/s |\n",
    "|crimes2010 (0.5 GB)| 40.4759s          | 10.5248 MB/s |\n",
    "|-------------------|-------------------|--------------|\n",
    "|Average            | NA                | 11.3068 MB/s |\n",
    "```\n",
    "\n",
    "### Download result\n",
    "```\n",
    "| Dataset           | Total Download Time | Download Speed |  \n",
    "|-------------------|---------------------|----------------|  \n",
    "|yelp (3.13GB)      | MemoryError         | MemoryError    |  \n",
    "|bigrams (1.6 GB)   | 61.6082s            | 27.1879 MB/s   |\n",
    "|crimes2010 (0.5GB) | 19.5927s            | 21.7428 MB/s   |\n",
    "|-------------------|---------------------|----------------|\n",
    "|Average            | NA                  | 24.4654 MB/s   |\n",
    "```\n",
    "\n",
    "Overall upload speed and download speed averages at `11.3068 MB/s` and `24.4654 MB/s` respectively. Download speed is `2.3` times faster than the upload speed on average. "
   ]
  },
  {
   "cell_type": "markdown",
   "metadata": {},
   "source": [
    "# Managing Object Storage by REST API"
   ]
  },
  {
   "cell_type": "code",
   "execution_count": 16,
   "metadata": {},
   "outputs": [
    {
     "name": "stdout",
     "output_type": "stream",
     "text": [
      "HTTP/1.1 200 OK\r",
      "\r\n",
      "Content-Length: 1536\r",
      "\r\n",
      "X-Auth-Token-Expires: 46895\r",
      "\r\n",
      "X-Auth-Token: AUTH_tk5d970f9d098a4df6aeafab2fffdc8cd7\r",
      "\r\n",
      "X-Storage-Token: AUTH_tk5d970f9d098a4df6aeafab2fffdc8cd7\r",
      "\r\n",
      "X-Storage-Url: https://dal05.objectstorage.softlayer.net/v1/AUTH_b7619532-8c35-4938-bf47-773773206815\r",
      "\r\n",
      "Content-Type: application/json\r",
      "\r\n",
      "X-Trans-Id: txb38019d5e2b149bca31e6-005bc73950\r",
      "\r\n",
      "Date: Wed, 17 Oct 2018 13:29:52 GMT\r",
      "\r\n",
      "\r",
      "\r\n",
      "{\"clusters\": {\"lon02\": \"https://lon02.objectstorage.softlayer.net/auth/v1.0\", \"syd01\": \"https://syd01.objectstorage.softlayer.net/auth/v1.0\", \"mon01\": \"https://mon01.objectstorage.softlayer.net/auth/v1.0\", \"dal05\": \"https://dal05.objectstorage.softlayer.net/auth/v1.0\", \"ams01\": \"https://ams01.objectstorage.softlayer.net/auth/v1.0\", \"osl01\": \"https://osl01.objectstorage.softlayer.net/auth/v1.0\", \"tor01\": \"https://tor01.objectstorage.softlayer.net/auth/v1.0\", \"hkg02\": \"https://hkg02.objectstorage.softlayer.net/auth/v1.0\", \"mex01\": \"https://mex01.objectstorage.softlayer.net/auth/v1.0\", \"par01\": \"https://par01.objectstorage.softlayer.net/auth/v1.0\", \"sjc01\": \"https://sjc01.objectstorage.softlayer.net/auth/v1.0\", \"mil01\": \"https://mil01.objectstorage.softlayer.net/auth/v1.0\", \"wdc\": \"https://wdc.objectstorage.softlayer.net/auth/v1.0\", \"fra02\": \"https://fra02.objectstorage.softlayer.net/auth/v1.0\", \"sng01\": \"https://sng01.objectstorage.softlayer.net/auth/v1.0\", \"seo01\": \"https://seo01.objectstorage.softlayer.net/auth/v1.0\", \"che01\": \"https://che01.objectstorage.softlayer.net/auth/v1.0\", \"sao01\": \"https://sao01.objectstorage.softlayer.net/auth/v1.0\", \"mel01\": \"https://mel01.objectstorage.softlayer.net/auth/v1.0\", \"tok02\": \"https://tok02.objectstorage.softlayer.net/auth/v1.0\"}, \"storage\": {\"default\": \"public\", \"public\": \"https://dal05.objectstorage.softlayer.net/v1/AUTH_b7619532-8c35-4938-bf47-773773206815\", \"private\": \"https://dal05.objectstorage.service.networklayer.com/v1/AUTH_b7619532-8c35-4938-bf47-773773206815\"}}"
     ]
    }
   ],
   "source": [
    "# To get the X-Auth-Token and X-Storage-Url\n",
    "\n",
    "! curl -i -H \"X-Auth-User: SLOS1729689-2:SL1729689 \" \\\n",
    "-H \"X-Auth-Key: f81bdfabd3456bb71d87433cf36bf6826b238cd8c3213049cc5d90689bfde55d\" \\\n",
    "https://dal05.objectstorage.softlayer.net/auth/v1.0"
   ]
  },
  {
   "cell_type": "code",
   "execution_count": 21,
   "metadata": {},
   "outputs": [
    {
     "name": "stdout",
     "output_type": "stream",
     "text": [
      "HTTP/1.1 200 OK\r",
      "\r\n",
      "Content-Length: 30\r",
      "\r\n",
      "X-Account-Meta-Nas-Id: 53336359\r",
      "\r\n",
      "X-Account-Object-Count: 4\r",
      "\r\n",
      "X-Account-Storage-Policy-Standard-Container-Count: 4\r",
      "\r\n",
      "X-Timestamp: 1539653747.99715\r",
      "\r\n",
      "X-Account-Meta-Cdn-Id: 99655\r",
      "\r\n",
      "X-Account-Storage-Policy-Standard-Object-Count: 4\r",
      "\r\n",
      "X-Account-Bytes-Used: 5228838023\r",
      "\r\n",
      "X-Account-Container-Count: 4\r",
      "\r\n",
      "Content-Type: text/plain; charset=utf-8\r",
      "\r\n",
      "Accept-Ranges: bytes\r",
      "\r\n",
      "X-Account-Storage-Policy-Standard-Bytes-Used: 5228838023\r",
      "\r\n",
      "X-Trans-Id: tx54cb7e68f12f47fdbb691-005bc71f81\r",
      "\r\n",
      "Date: Wed, 17 Oct 2018 11:39:45 GMT\r",
      "\r\n",
      "\r",
      "\r\n",
      "mybucket\r\n",
      "mybucket2\r\n",
      "week7\r\n",
      "yelp\r\n"
     ]
    }
   ],
   "source": [
    "# To get the list of the container \n",
    "\n",
    "! curl -i -H \"X-Auth-Token: AUTH_tk5d970f9d098a4df6aeafab2fffdc8cd7\" \\\n",
    "https://dal05.objectstorage.softlayer.net/v1/AUTH_b7619532-8c35-4938-bf47-773773206815"
   ]
  },
  {
   "cell_type": "code",
   "execution_count": 12,
   "metadata": {},
   "outputs": [
    {
     "name": "stdout",
     "output_type": "stream",
     "text": [
      "HTTP/1.1 200 OK\r",
      "\r\n",
      "Content-Length: 20\r",
      "\r\n",
      "X-Container-Object-Count: 3\r",
      "\r\n",
      "Accept-Ranges: bytes\r",
      "\r\n",
      "X-Storage-Policy: standard\r",
      "\r\n",
      "X-Container-Bytes-Used: 5228838023\r",
      "\r\n",
      "X-Timestamp: 1539691271.46881\r",
      "\r\n",
      "Content-Type: text/plain; charset=utf-8\r",
      "\r\n",
      "X-Trans-Id: tx83f1b73b808a490593740-005bc736e9\r",
      "\r\n",
      "Date: Wed, 17 Oct 2018 13:19:37 GMT\r",
      "\r\n",
      "\r",
      "\r\n",
      "bigrams\r\n",
      "crimes\r\n",
      "yelp\r\n"
     ]
    }
   ],
   "source": [
    "# To check the content of the container `week7` by appending the container name at the end of the X-Storage-Url path\n",
    "\n",
    "! curl -i -H \"X-Auth-Token: AUTH_tk5d970f9d098a4df6aeafab2fffdc8cd7\" \\\n",
    "https://dal05.objectstorage.softlayer.net/v1/AUTH_b7619532-8c35-4938-bf47-773773206815/week7"
   ]
  },
  {
   "cell_type": "code",
   "execution_count": 7,
   "metadata": {},
   "outputs": [
    {
     "name": "stdout",
     "output_type": "stream",
     "text": [
      "HTTP/1.1 100 Continue\n",
      "\n",
      "HTTP/1.1 201 Created\n",
      "Last-Modified: Wed, 17 Oct 2018 12:23:31 GMT\n",
      "Content-Length: 0\n",
      "Etag: 47dc2b68fca1fe30360e512bdaed2a1d\n",
      "Content-Type: text/html; charset=UTF-8\n",
      "X-Trans-Id: tx655f52cc8c804b1eb5b40-005bc729c2\n",
      "Date: Wed, 17 Oct 2018 12:27:44 GMT\n",
      "\n",
      "Total upload time by REST API for the yelp data is 254.6764 seconds\n",
      "Upload speed by REST API for the yelp data is 12.2901 MB/s\n"
     ]
    }
   ],
   "source": [
    "# upload the yelp data by REST API\n",
    "\n",
    "upload_start = time.time()\n",
    "yelp_data_size = 3130\n",
    "    \n",
    "! curl -i -XPUT -H \"X-Auth-Token: AUTH_tk5d970f9d098a4df6aeafab2fffdc8cd7\" \\\n",
    "-T yelp_dataset.tar https://dal05.objectstorage.softlayer.net/v1/AUTH_b7619532-8c35-4938-bf47-773773206815/week7/yelp\n",
    "\n",
    "upload_end = time.time()\n",
    "\n",
    "uploadtime = upload_end - upload_start\n",
    "print(\"Total upload time by REST API for the yelp data is {:.4f} seconds\".format(uploadtime))\n",
    "print(\"Upload speed by REST API for the yelp data is {:.4f} MB/s\".format(yelp_data_size/uploadtime))"
   ]
  },
  {
   "cell_type": "code",
   "execution_count": 19,
   "metadata": {},
   "outputs": [
    {
     "name": "stdout",
     "output_type": "stream",
     "text": [
      "HTTP/1.1 200 OK\r",
      "\r\n",
      "Content-Length: 20\r",
      "\r\n",
      "X-Container-Object-Count: 3\r",
      "\r\n",
      "Accept-Ranges: bytes\r",
      "\r\n",
      "X-Storage-Policy: standard\r",
      "\r\n",
      "X-Container-Bytes-Used: 5228838023\r",
      "\r\n",
      "X-Timestamp: 1539691271.46881\r",
      "\r\n",
      "Content-Type: text/plain; charset=utf-8\r",
      "\r\n",
      "X-Trans-Id: tx05f938f2e8ef484e8ab00-005bc739bb\r",
      "\r\n",
      "Date: Wed, 17 Oct 2018 13:31:39 GMT\r",
      "\r\n",
      "\r",
      "\r\n",
      "bigrams\r\n",
      "crimes\r\n",
      "yelp\r\n"
     ]
    }
   ],
   "source": [
    "# Checking the content of the container \n",
    "\n",
    "! curl -i -H \"X-Auth-Token: AUTH_tk5d970f9d098a4df6aeafab2fffdc8cd7\" \\\n",
    "https://dal05.objectstorage.softlayer.net/v1/AUTH_b7619532-8c35-4938-bf47-773773206815/week7/"
   ]
  },
  {
   "cell_type": "code",
   "execution_count": 7,
   "metadata": {},
   "outputs": [
    {
     "name": "stdout",
     "output_type": "stream",
     "text": [
      "HTTP/1.1 100 Continue\n",
      "\n",
      "HTTP/1.1 201 Created\n",
      "Last-Modified: Wed, 17 Oct 2018 12:46:42 GMT\n",
      "Content-Length: 0\n",
      "Etag: a3666a7a31f518347d3ada250536b8c6\n",
      "Content-Type: text/html; charset=UTF-8\n",
      "X-Trans-Id: tx6d893706918748e6b927c-005bc72f31\n",
      "Date: Wed, 17 Oct 2018 12:49:02 GMT\n",
      "\n",
      "Total upload time by REST API for the yelp data is 141.3334 seconds\n",
      "Upload speed by REST API for the yelp data is 11.8514 MB/s\n"
     ]
    }
   ],
   "source": [
    "# upload the bigram data by REST API\n",
    "\n",
    "upload_start = time.time()\n",
    "bigram_data_size = 1675\n",
    "    \n",
    "! curl -i -XPUT -H \"X-Auth-Token: AUTH_tk5d970f9d098a4df6aeafab2fffdc8cd7\" \\\n",
    "-T googlebooks-eng-all-2gram-20090715-0.csv https://dal05.objectstorage.softlayer.net/v1/AUTH_b7619532-8c35-4938-bf47-773773206815/week7/bigrams\n",
    "\n",
    "upload_end = time.time()\n",
    "\n",
    "uploadtime = upload_end - upload_start\n",
    "print(\"Total upload time by REST API for the yelp data is {:.4f} seconds\".format(uploadtime))\n",
    "print(\"Upload speed by REST API for the yelp data is {:.4f} MB/s\".format(bigram_data_size/uploadtime))"
   ]
  },
  {
   "cell_type": "code",
   "execution_count": 8,
   "metadata": {},
   "outputs": [
    {
     "name": "stdout",
     "output_type": "stream",
     "text": [
      "HTTP/1.1 100 Continue\n",
      "\n",
      "HTTP/1.1 201 Created\n",
      "Last-Modified: Wed, 17 Oct 2018 13:02:35 GMT\n",
      "Content-Length: 0\n",
      "Etag: efe79d991d0921afec5cc52a5a840f47\n",
      "Content-Type: text/html; charset=UTF-8\n",
      "X-Trans-Id: txb9786de2d7e34b87aec6e-005bc732ea\n",
      "Date: Wed, 17 Oct 2018 13:03:09 GMT\n",
      "\n",
      "Total upload time by REST API for the crime data is 41.2955 seconds\n",
      "Upload speed by REST API for the crime data is 10.3159 MB/s\n"
     ]
    }
   ],
   "source": [
    "# upload the crime data by REST API\n",
    "\n",
    "upload_start = time.time()\n",
    "crime_data_size = 426\n",
    "    \n",
    "! curl -i -XPUT -H \"X-Auth-Token: AUTH_tk5d970f9d098a4df6aeafab2fffdc8cd7\" \\\n",
    "-T crimes2010.csv https://dal05.objectstorage.softlayer.net/v1/AUTH_b7619532-8c35-4938-bf47-773773206815/week7/crimes\n",
    "\n",
    "upload_end = time.time()\n",
    "\n",
    "uploadtime = upload_end - upload_start\n",
    "print(\"Total upload time by REST API for the crime data is {:.4f} seconds\".format(uploadtime))\n",
    "print(\"Upload speed by REST API for the crime data is {:.4f} MB/s\".format(crime_data_size/uploadtime))"
   ]
  },
  {
   "cell_type": "code",
   "execution_count": 5,
   "metadata": {},
   "outputs": [
    {
     "data": {
      "text/plain": [
       "\"I've commented out the script because it was loading forever to show the content of the file,\\nwhich is impossible to show here\""
      ]
     },
     "execution_count": 5,
     "metadata": {},
     "output_type": "execute_result"
    }
   ],
   "source": [
    "# Download the bigrams data by REST API\n",
    "\n",
    "\"\"\"I've commented out the script because it was loading forever to show the content of the file,\n",
    "which is impossible to show here\"\"\"\n",
    "\n",
    "# bigram_data_size = 1675\n",
    "# download_start = time.time()\n",
    "\n",
    "# ! curl -i -H \"X-Auth-Token: AUTH_tk5d970f9d098a4df6aeafab2fffdc8cd7\" \\\n",
    "# https://dal05.objectstorage.softlayer.net/v1/AUTH_b7619532-8c35-4938-bf47-773773206815/week7/bigrams\n",
    "    \n",
    "# download_end = time.time()\n",
    "# downloadtime = download_end - download_start \n",
    "# print(\"Total download time is {:.4f} seconds\".format(downloadtime))\n",
    "# print(\"Download speed is {:.4f} MB/s\".format(bigram_data_size/downloadtime))"
   ]
  },
  {
   "cell_type": "code",
   "execution_count": 7,
   "metadata": {},
   "outputs": [
    {
     "data": {
      "text/plain": [
       "\"I've commented out the script because it was loading forever to show the content of the file,\\nwhich is impossible to show here\""
      ]
     },
     "execution_count": 7,
     "metadata": {},
     "output_type": "execute_result"
    }
   ],
   "source": [
    "# Download the crime data by REST API\n",
    "\n",
    "\"\"\"I've commented out the script because it was loading forever to show the content of the file,\n",
    "which is impossible to show here\"\"\"\n",
    "\n",
    "# crime_data_size = 426\n",
    "# download_start = time.time()\n",
    "\n",
    "# ! curl -i -H \"X-Auth-Token: AUTH_tk5d970f9d098a4df6aeafab2fffdc8cd7\" \\\n",
    "# https://dal05.objectstorage.softlayer.net/v1/AUTH_b7619532-8c35-4938-bf47-773773206815/week7/crimes\n",
    "    \n",
    "# download_end = time.time()\n",
    "# downloadtime = download_end - download_start \n",
    "# print(\"Total download time is {:.4f} seconds\".format(downloadtime))\n",
    "# print(\"Download speed is {:.4f} MB/s\".format(crime_data_size/downloadtime))"
   ]
  },
  {
   "cell_type": "code",
   "execution_count": null,
   "metadata": {},
   "outputs": [],
   "source": [
    "# delete a storage object\n",
    "\n",
    "! curl -X DELETE -H \"X-Auth-Token: AUTH_tk5d970f9d098a4df6aeafab2fffdc8cd7\" \\\n",
    "https://dal05.objectstorage.softlayer.net/v1/AUTH_b7619532-8c35-4938-bf47-773773206815/week7/"
   ]
  },
  {
   "cell_type": "markdown",
   "metadata": {},
   "source": [
    "## Analysis  on upload and download speed using REST API\n",
    "\n",
    "### Upload result\n",
    "```\n",
    "| Dataset           | Total Upload Time | Upload Speed |  \n",
    "|-------------------|-------------------|--------------|  \n",
    "|yelp (3.13GB)      | 254.6764s         | 12.2901 MB/s |  \n",
    "|bigrams (1.6 GB)   | 141.3334s         | 11.8514 MB/s |\n",
    "|crimes2010 (0.5 GB)| 41.2955s          | 10.3159 MB/s |\n",
    "|-------------------|-------------------|--------------|\n",
    "|Average            | NA                | 11.4858 MB/s |\n",
    "```\n",
    "\n",
    "### Download result\n",
    "```\n",
    "| Dataset           | Total Download Time | Download Speed |  \n",
    "|-------------------|---------------------|----------------|  \n",
    "|yelp (3.13GB)      | NA                  | NA             |  \n",
    "|bigrams (1.6 GB)   | NA                  | NA             |\n",
    "|crimes2010 (0.5GB) | NA                  | NA             |\n",
    "|-------------------|---------------------|----------------|\n",
    "|Average            | NA                  | NA             |\n",
    "```\n",
    "\n",
    "Overall upload speed by REST API was `11.4858 MB/s` on average. It is comparable to the upload speed by Python API as well. "
   ]
  },
  {
   "cell_type": "markdown",
   "metadata": {},
   "source": [
    "## Questions  \n",
    "\n",
    "### 1. What is the average READ speed in Mb/sec?  \n",
    "\n",
    "The average write speed was 24.4 MB/s. I tested across 3 different file size (3.13GB, 1.6 GB, and 0.5GB). The speed is almost similar regardless of the file size. \n",
    "\n",
    "### 2. What is the average WRITE speed in Mb/sec?\n",
    "\n",
    "The average read speed was 11.4 MB/s regardless of the file size or the method (Python or REST API). \n",
    "\n",
    "### 3. Can you account for the discrepancies? Consider all of the possible reasons and explain.\n",
    "\n",
    "The discrepancy between read and write speed is how the data are accessed during the process. During the read speed, the available data is easily retrieved from the disk which makes the speed much faster than the write speed. In WRITE, the data has to be checked against the block size of the disk as the data are being written. \n",
    "\n",
    "### 4. What happens to these speeds if you run two threads in parallel?\n",
    "\n",
    "If we try to run these processes in two threads in parallel, the speed will reduce to half because they need to cater to the bandwidth for each process in parallel. I don't know in details but I suspect they must have developed some algorithms to better serve two processes in parallel, similar to max-min fairness in TCP: TCP Reno, TCP Cubic. "
   ]
  }
 ],
 "metadata": {
  "kernelspec": {
   "display_name": "Python 2",
   "language": "python",
   "name": "python2"
  },
  "language_info": {
   "codemirror_mode": {
    "name": "ipython",
    "version": 2
   },
   "file_extension": ".py",
   "mimetype": "text/x-python",
   "name": "python",
   "nbconvert_exporter": "python",
   "pygments_lexer": "ipython2",
   "version": "2.7.5"
  }
 },
 "nbformat": 4,
 "nbformat_minor": 2
}
