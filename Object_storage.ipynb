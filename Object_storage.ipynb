{
 "cells": [
  {
   "cell_type": "markdown",
   "metadata": {},
   "source": [
    "# Utilization of object storage in softlayer"
   ]
  },
  {
   "cell_type": "markdown",
   "metadata": {},
   "source": [
    "**Kenneth Chen**  \n",
    "\n",
    "Using object storage API in Jupyter Notebook (Python 2.7.5)  \n",
    "https://github.com/softlayer/softlayer-object-storage-python"
   ]
  },
  {
   "cell_type": "code",
   "execution_count": 1,
   "metadata": {},
   "outputs": [],
   "source": [
    "import object_storage\n",
    "import os\n",
    "import time"
   ]
  },
  {
   "cell_type": "code",
   "execution_count": 2,
   "metadata": {},
   "outputs": [],
   "source": [
    "# Connect to storage account\n",
    "sl_storage = object_storage.get_client('SLOS1729689-2:USERID', \n",
    "                                       'API_KEY', \n",
    "                                       datacenter='dal05')"
   ]
  },
  {
   "cell_type": "code",
   "execution_count": 8,
   "metadata": {},
   "outputs": [
    {
     "data": {
      "text/plain": [
       "Container(yelp)"
      ]
     },
     "execution_count": 8,
     "metadata": {},
     "output_type": "execute_result"
    }
   ],
   "source": [
    "# create a container 'yelp'\n",
    "sl_storage['yelp'].create()"
   ]
  },
  {
   "cell_type": "code",
   "execution_count": 9,
   "metadata": {},
   "outputs": [
    {
     "data": {
      "text/plain": [
       "[Container(mybucket), Container(mybucket2), Container(week7), Container(yelp)]"
      ]
     },
     "execution_count": 9,
     "metadata": {},
     "output_type": "execute_result"
    }
   ],
   "source": [
    "# Listing all the containers\n",
    "sl_storage.containers()"
   ]
  },
  {
   "cell_type": "code",
   "execution_count": 10,
   "metadata": {},
   "outputs": [
    {
     "data": {
      "text/plain": [
       "{'container_count': 4,\n",
       " 'meta': {'cdn-id': '99655', 'nas-id': '53336359'},\n",
       " 'object_count': 1,\n",
       " 'path': '',\n",
       " 'size': 0,\n",
       " 'url': u'https://dal05.objectstorage.softlayer.net/v1/AUTH_b7619532-8c35-4938-bf47-773773206815'}"
      ]
     },
     "execution_count": 10,
     "metadata": {},
     "output_type": "execute_result"
    }
   ],
   "source": [
    "# Checking the object storage properties\n",
    "sl_storage.properties"
   ]
  },
  {
   "cell_type": "code",
   "execution_count": null,
   "metadata": {},
   "outputs": [],
   "source": [
    "# Uploading a yelp data (>3GB) to 'yelp' container\n",
    "\n",
    "yelp_data = os.path.expanduser(\"/root/yelp_dataset.tar\")\n",
    "yelp_data_size = 3130         # data size in 3130 MB\n",
    "\n",
    "upload_start = time.time()\n",
    "fileUpload = sl_storage['week7']['yelp'].load_from_filename(yelp_data)\n",
    "\n",
    "upload_end = time.time()\n",
    "\n",
    "uploadtime = upload_end - upload_start\n",
    "print(\"Total upload time is {:.4f} seconds\".format(uploadtime))\n",
    "print(\"Upload speed is {:.4f} MB/s\".format(yelp_data_size/uploadtime))"
   ]
  },
  {
   "cell_type": "code",
   "execution_count": 12,
   "metadata": {},
   "outputs": [
    {
     "name": "stdout",
     "output_type": "stream",
     "text": [
      "total is 3\n"
     ]
    }
   ],
   "source": [
    "# Downloading the yelp data \n",
    "\n",
    "yelp_data_size = 3130         # data size in 3130 MB\n",
    "download_start = time.time()\n",
    "\n",
    "uploadstart = time.time()\n",
    "sl_storage['week7']['yelp'].read()\n",
    "\n",
    "download_end = time.time()\n",
    "\n",
    "downloadtime = download_end - download_start\n",
    "print(\"Total download time is {:.4f} seconds\".format(downloadtime))\n",
    "print(\"Download speed is {:.4f} MB/s\".format(yelp_data_size/downloadtime))"
   ]
  },
  {
   "cell_type": "code",
   "execution_count": null,
   "metadata": {},
   "outputs": [],
   "source": []
  }
 ],
 "metadata": {
  "kernelspec": {
   "display_name": "Python 2",
   "language": "python",
   "name": "python2"
  },
  "language_info": {
   "codemirror_mode": {
    "name": "ipython",
    "version": 2
   },
   "file_extension": ".py",
   "mimetype": "text/x-python",
   "name": "python",
   "nbconvert_exporter": "python",
   "pygments_lexer": "ipython2",
   "version": "2.7.5"
  }
 },
 "nbformat": 4,
 "nbformat_minor": 2
}
